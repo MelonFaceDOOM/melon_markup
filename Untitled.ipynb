{
 "cells": [
  {
   "cell_type": "code",
   "execution_count": 6,
   "metadata": {},
   "outputs": [],
   "source": [
    "class FormatTag():\n",
    "    def __init__(self, name, start_tag, end_tag, output_template):\n",
    "        self.name = name\n",
    "        self.start_tag = start_tag\n",
    "        self.end_tag = end_tag\n",
    "        self.output_template = output_template\n",
    "\n",
    "name = \"bold\"       \n",
    "start_tag = \"[b]\"\n",
    "end_tag = \"[/b]\"\n",
    "output_template = \"<strong>{value}</strong>\"\n",
    "\n",
    "bold = FormatTag(name=name, start_tag=start_tag, end_tag=end_tag, output_template=output_template)\n",
    "\n",
    "name = \"italics\"       \n",
    "start_tag = \"[i]\"\n",
    "end_tag = \"[/i]\"\n",
    "output_template = \"<em>{value}</em>\"\n",
    "\n",
    "italics = FormatTag(name=name, start_tag=start_tag, end_tag=end_tag, output_template=output_template)"
   ]
  },
  {
   "cell_type": "code",
   "execution_count": 7,
   "metadata": {},
   "outputs": [],
   "source": [
    "tags = {\n",
    "    \"bold\": {\n",
    "        'start_tag': \"[b]\",\n",
    "        'end_tag': \"[/b]\",\n",
    "        'output_template': \"<strong>{value}</strong>\"\n",
    "     },\n",
    "    \"italics\": {\n",
    "        'start_tag': \"[i]\",\n",
    "        'end_tag': \"[/i]\",\n",
    "        'output_template': \"<em>{value}</em>\"\n",
    "    },\n",
    "    \"strikethrough\": {\n",
    "        'start_tag': \"[s]\",\n",
    "        'end_tag': \"[/s]\",\n",
    "        'output_template': \"<strike>{value}</strike>\"\n",
    "    },\n",
    "    \"underline\": {\n",
    "        'start_tag': \"[u]\",\n",
    "        'end_tag': \"[/u]\",\n",
    "        'output_template': \"<u>{value}</u>\"\n",
    "    }\n",
    "        \n",
    "}\n"
   ]
  },
  {
   "cell_type": "code",
   "execution_count": 16,
   "metadata": {},
   "outputs": [],
   "source": [
    "def parse(string, tag_dict):\n",
    "    s = tag_dict['start_tag']  # shortened for convenience\n",
    "    e = tag_dict['end_tag']  # shortened for convenience\n",
    "    if not (s in string and e in string):\n",
    "        return string\n",
    "    value = string[string.find(s)+len(s):string.find(e)]\n",
    "    before = string[:string.find(s)]\n",
    "    after = string[string.find(e)+len(e):]\n",
    "    formatted = tag_dict['output_template'].format(value=value)\n",
    "    return '\"{}\"{}\"{}\"'.format(before, formatted, after)"
   ]
  },
  {
   "cell_type": "code",
   "execution_count": 18,
   "metadata": {},
   "outputs": [
    {
     "name": "stdout",
     "output_type": "stream",
     "text": [
      "\"asdasda\"<strong>a[b]sd</strong>\"sada[/b]\"\n"
     ]
    }
   ],
   "source": [
    "string = \"asdasda[b]a[b]sd[/b]sada[/b]\"\n",
    "for tag in tags:\n",
    "    string = parse(string,tags[tag])\n",
    "print(string)"
   ]
  },
  {
   "cell_type": "code",
   "execution_count": 4,
   "metadata": {},
   "outputs": [
    {
     "name": "stdout",
     "output_type": "stream",
     "text": [
      "{'end_tag': '[/i]', 'output_template': '<em>{value}</em>', 'start_tag': '[i]'}\n",
      "{'end_tag': '[/b]', 'output_template': '<strong>{value}</strong>', 'start_tag': '[b]'}\n"
     ]
    }
   ],
   "source": [
    "for tag in tags:\n",
    "    print(tags[tag])"
   ]
  }
 ],
 "metadata": {
  "kernelspec": {
   "display_name": "Python 3",
   "language": "python",
   "name": "python3"
  },
  "language_info": {
   "codemirror_mode": {
    "name": "ipython",
    "version": 3
   },
   "file_extension": ".py",
   "mimetype": "text/x-python",
   "name": "python",
   "nbconvert_exporter": "python",
   "pygments_lexer": "ipython3",
   "version": "3.5.2"
  }
 },
 "nbformat": 4,
 "nbformat_minor": 2
}
