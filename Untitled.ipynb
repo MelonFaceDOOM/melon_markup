{
 "cells": [
  {
   "cell_type": "code",
   "execution_count": 50,
   "metadata": {},
   "outputs": [],
   "source": [
    "import json\n",
    "\n",
    "class FormatTag():\n",
    "    def __init__(self, name, start, end, output_template):\n",
    "        self.name = name\n",
    "        self.start = start\n",
    "        self.end = end\n",
    "        self.output_template = output_template\n",
    "        self.openings = []\n",
    "        self.net_change = len(self.output_template.format(value=\"\")) - len(self.start) - len(self.end)\n",
    "\n",
    "    def close(self, unformatted, end_pos):\n",
    "        if self.openings:\n",
    "            pre_text = unformatted[:self.openings[-1]]\n",
    "            post_text = unformatted[end_pos + len(self.end):]\n",
    "            open_tag_end_pos = self.openings[-1] + len(self.start)\n",
    "            interior = unformatted[open_tag_end_pos:end_pos]\n",
    "            formatted = self.output_template.format(value=interior)\n",
    "            self.openings = self.openings[:-1]\n",
    "            return pre_text + formatted + post_text\n",
    "        else:\n",
    "            return unformatted\n",
    "\n",
    "\n",
    "def create_tags():\n",
    "    tags = []\n",
    "    with open(\"tags.txt\",\"r\") as f:\n",
    "        json_tags = json.loads(f.read())\n",
    "        for t in json_tags:\n",
    "            tags.append(FormatTag(name=t['name'], start=t['start'], end=t['end'], output_template=t['output_template']))\n",
    "    return tags\n",
    "\n",
    "\n",
    "def parse(s):\n",
    "    # the FormatTag class keeps track of information for each tag type, while variables within this function\n",
    "    # are responsible for keeping track of inter-tag information and adjusting the tag values based on what happens\n",
    "    # as the string is parsed\n",
    "    \n",
    "    tags = create_tags()\n",
    "    \n",
    "    pos = 0\n",
    "    while True:\n",
    "        for tag in tags:\n",
    "            # mark location of all start tags as they are identified\n",
    "            if s[pos:].startswith(tag.start):\n",
    "                tag.openings.append(pos)\n",
    "                pos += len(tag.start) # skip to the end of the start tag\n",
    "                break\n",
    "            \n",
    "            # replace start and end tag if both have been found\n",
    "            elif s[pos:].startswith(tag.end):\n",
    "                if tag.openings:\n",
    "                    tag_opening_pos = tag.openings[-1]\n",
    "                    s = tag.close(s, pos)\n",
    "\n",
    "                    # find if any tags are between the start and close of the tag that was just closed\n",
    "                    inbetween_tags = False\n",
    "                    for _tag in tags:\n",
    "                        for i, _tag_opening_pos in enumerate(_tag.openings):\n",
    "                            if _tag_opening_pos > tag_opening_pos and _tag_opening_pos < pos:\n",
    "                                inbetween_tags = True\n",
    "                                del _tag.openings[i] # delete in-between tags as their position value is no longer valid\n",
    "                    \n",
    "                    if inbetween_tags:\n",
    "                    # restart the parser at that the start location of the tag that was closed \n",
    "                        pos = tag_opening_pos\n",
    "                        break\n",
    "                    \n",
    "                    # if there were no tags between, adjust the frame and parsing past the ending of this tag pairing\n",
    "                    pos += len(tag.end) + tag.net_change\n",
    "                    break\n",
    "                else:\n",
    "                    # if there is an end tag with no opening tag, skip past it.\n",
    "                    pos += len (tag.end)\n",
    "        else:\n",
    "            pos += 1\n",
    "\n",
    "        if pos > len(s):\n",
    "            return s\n",
    "        #print(s[:pos], pos)\n"
   ]
  },
  {
   "cell_type": "code",
   "execution_count": 51,
   "metadata": {},
   "outputs": [
    {
     "name": "stdout",
     "output_type": "stream",
     "text": [
      "tag closing found at 24 to match opening at pos 14\n",
      "tag closing found at 36 to match opening at pos 32\n",
      "tag closing found at 46 to match opening at pos 20\n",
      "tag closing found at 60 to match opening at pos 47\n"
     ]
    },
    {
     "data": {
      "text/plain": [
       "'ads[/b]aasdasd<em>as<strong>da</em>as<em>d</em><em>s</strong></em>ad[/i]'"
      ]
     },
     "execution_count": 51,
     "metadata": {},
     "output_type": "execute_result"
    }
   ],
   "source": [
    "tags = create_tags()\n",
    "s = \"ads[/b]aasdasd[i]as[b]da[/i]as[i]d[/i][i]s[/b][/i]ad[/i]\"\n",
    "#'ads[/b]aasdasd<em>as<strong>da</em>as<em>d</em><em>s</strong></em>ad[/i]'\n",
    "parse(s)"
   ]
  }
 ],
 "metadata": {
  "kernelspec": {
   "display_name": "Python 3",
   "language": "python",
   "name": "python3"
  },
  "language_info": {
   "codemirror_mode": {
    "name": "ipython",
    "version": 3
   },
   "file_extension": ".py",
   "mimetype": "text/x-python",
   "name": "python",
   "nbconvert_exporter": "python",
   "pygments_lexer": "ipython3",
   "version": "3.7.3"
  }
 },
 "nbformat": 4,
 "nbformat_minor": 2
}
